{
 "cells": [
  {
   "cell_type": "code",
   "execution_count": 22,
   "metadata": {},
   "outputs": [
    {
     "name": "stdout",
     "output_type": "stream",
     "text": [
      "1 2 3 4 5 6\n",
      "5\n",
      "[2, 3, 4, 5, 6, 1]\n"
     ]
    }
   ],
   "source": [
    "# Accepts the input in a space seperated integer manner like 1 2 3 4 5 6 7\n",
    "n = list(map(int,input().split(\" \")))\n",
    "# Here give the number of right rotations to make. \n",
    "k = int(input())\n",
    "# This function when called with the list or array with number of rotations to perform generates a desired output.\n",
    "def do_rightRot(n,k):\n",
    "    for i in range(0,k):\n",
    "        new = len(n)*[0]\n",
    "        ele = n.pop()\n",
    "        new[0] = ele\n",
    "        #print(n)\n",
    "        for i in range(1,len(n)+1):\n",
    "            new[i] = n[i - 1]\n",
    "        n = new\n",
    "    print(new)# Printing the position of elements after final rotation. \n",
    "do_rightRot(n,k)#function calling.\n",
    "            \n",
    "            \n",
    "        "
   ]
  },
  {
   "cell_type": "code",
   "execution_count": null,
   "metadata": {},
   "outputs": [],
   "source": []
  },
  {
   "cell_type": "code",
   "execution_count": null,
   "metadata": {},
   "outputs": [],
   "source": []
  }
 ],
 "metadata": {
  "kernelspec": {
   "display_name": "Python 3",
   "language": "python",
   "name": "python3"
  },
  "language_info": {
   "codemirror_mode": {
    "name": "ipython",
    "version": 3
   },
   "file_extension": ".py",
   "mimetype": "text/x-python",
   "name": "python",
   "nbconvert_exporter": "python",
   "pygments_lexer": "ipython3",
   "version": "3.7.6"
  }
 },
 "nbformat": 4,
 "nbformat_minor": 4
}
