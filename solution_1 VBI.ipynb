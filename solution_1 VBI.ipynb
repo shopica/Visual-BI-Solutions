{
 "cells": [
  {
   "cell_type": "code",
   "execution_count": 14,
   "metadata": {},
   "outputs": [
    {
     "name": "stdout",
     "output_type": "stream",
     "text": [
      "55 45 35 46 47 88 99 97 96 42 10 6 22\n",
      "AGE GROUP\t People\n",
      "1 - 10 \t 2\n",
      "11 - 20 \t 0\n",
      "21 - 30 \t 1\n",
      "31 - 40 \t 1\n",
      "41 - 50 \t 4\n",
      "51 - 60 \t 1\n",
      "61 - 70 \t 0\n",
      "71 - 80 \t 0\n",
      "81 - 90 \t 1\n",
      "91 - 100 \t 3\n"
     ]
    }
   ],
   "source": [
    "# n accepting the space separated integers like 10 20 30 40 50 which is the only input needed to generate table.\n",
    "\n",
    "n = list(map(int,input().split(\" \")))\n",
    "age_grps = [10,20,30,40,50,60,70,80,90,100]\n",
    "\n",
    "# dictionary or hash table has a search complexity of O(1) so the action will be done quick.\n",
    "\n",
    "dict_ages = {0:0,1:0,2:0,3:0,4:0,5:0,6:0,7:0,8:0,9:0,10:0}\n",
    "\n",
    "#This is the looping part for counting up the ages as the list size is fixed the operations do'nt be much complex.\n",
    "\n",
    "for i in range(0,len(n)):\n",
    "    for j in range(0,len(age_grps)):\n",
    "        if(n[i] <=  age_grps[j]):\n",
    "            dict_ages[j] += 1\n",
    "            break\n",
    "print(\"AGE GROUP\\t People\")\n",
    "s = 1\n",
    "e = 10\n",
    "#generating the output in a desired table form.\n",
    "\n",
    "for i in range(0,10):\n",
    "    print(s,'-',e,\"\\t\",dict_ages[i])\n",
    "    s = e + 1\n",
    "    e = e +10\n"
   ]
  },
  {
   "cell_type": "code",
   "execution_count": null,
   "metadata": {},
   "outputs": [],
   "source": []
  }
 ],
 "metadata": {
  "kernelspec": {
   "display_name": "Python 3",
   "language": "python",
   "name": "python3"
  },
  "language_info": {
   "codemirror_mode": {
    "name": "ipython",
    "version": 3
   },
   "file_extension": ".py",
   "mimetype": "text/x-python",
   "name": "python",
   "nbconvert_exporter": "python",
   "pygments_lexer": "ipython3",
   "version": "3.7.6"
  }
 },
 "nbformat": 4,
 "nbformat_minor": 4
}
